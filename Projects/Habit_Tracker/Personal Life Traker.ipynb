{
 "cells": [
  {
   "cell_type": "markdown",
   "id": "804d7dee-762c-4b1e-b948-1e279bdc5ef0",
   "metadata": {
    "tags": []
   },
   "source": [
    "## Only Run the Cell Below if you Want to Delete all Data from the DataBase"
   ]
  },
  {
   "cell_type": "code",
   "execution_count": 105,
   "id": "700f56ed-4007-4112-9ce7-d5c579bd12e5",
   "metadata": {
    "tags": []
   },
   "outputs": [],
   "source": [
    "import pandas as pd\n",
    "import numpy as np \n",
    "import matplotlib.pyplot as plt\n",
    "from datetime import date, timedelta"
   ]
  },
  {
   "cell_type": "code",
   "execution_count": 105,
   "id": "913d2dcb-1dfc-4c27-8880-4b589796b9b5",
   "metadata": {
    "tags": []
   },
   "outputs": [],
   "source": [
    "files = ['sleep', 'water_intake', 'protein_intake', 'training_time', 'training_types', 'habit_tracker']\n",
    "headers = [['Sleep Duration'], \n",
    "           ['Total Water Intake (liters)'], \n",
    "           ['Total Protein Intake (grams)'], \n",
    "           ['Training Duration (hours)'], \n",
    "           ['Training Type'], \n",
    "           ['Meditation (minutes)', 'Breathing (minutes)', 'Journaling (minutes)']]\n",
    "\n",
    "for file, header in zip(files, headers):\n",
    "    pd.DataFrame(columns=['Date']+header).to_csv(f'{file}.csv', index=False)"
   ]
  },
  {
   "cell_type": "code",
   "execution_count": 105,
   "id": "20df7e03-6a6b-444b-991c-f0bae80f17ab",
   "metadata": {
    "tags": []
   },
   "outputs": [],
   "source": [
    "files = ['sleep', 'water_intake', 'protein_intake', 'training_time', 'training_types', 'habit_tracker']\n",
    "headers = [['Sleep Duration'], \n",
    "           ['Total Intake (liters)'], \n",
    "           ['Total Intake (grams)'], \n",
    "           ['Training Duration (hours)'], \n",
    "           ['Training Type'], \n",
    "           ['Meditation (minutes)', 'Breathing (minutes)', 'Journaling (minutes)']]\n",
    "\n",
    "header_dtype = [[float],\n",
    "                [float],\n",
    "                [float],\n",
    "                [float],\n",
    "                [str],\n",
    "                [float, float, float]]"
   ]
  },
  {
   "cell_type": "code",
   "execution_count": 144,
   "id": "618c19b2-afbb-45d7-bd5d-5959f444f3e2",
   "metadata": {
    "tags": []
   },
   "outputs": [],
   "source": [
    "def add_data(file, data):\n",
    "    df = pd.read_csv(f'{file}.csv')\n",
    "    df = pd.concat([df, pd.DataFrame([data])], ignore_index=True)\n",
    "    df.to_csv(f'{file}.csv', index=False)\n",
    "\n",
    "def fetch_data(files, headers, header_dtype):\n",
    "    today = date.today()\n",
    "    hour = datetime.now().hour\n",
    "    for file, header, column_types in zip(files, headers, header_dtype):\n",
    "        data = {'Date': today - timedelta(days=1) if hour >= 0 and hour < 6 else today}\n",
    "        for column, column_type in zip(header, column_types):\n",
    "            data[column] = column_type(input(f'Enter {column}: '))\n",
    "        add_data(file, data)"
   ]
  },
  {
   "cell_type": "code",
   "execution_count": 145,
   "id": "6b28364f-99c5-411c-b26e-e94ef403d286",
   "metadata": {
    "tags": []
   },
   "outputs": [
    {
     "name": "stdout",
     "output_type": "stream",
     "text": [
      "Enter Sleep Duration:  6\n",
      "Enter Total Water Intake (liters):  3.5\n",
      "Enter Total Protein Intake (grams):  156\n",
      "Enter Training Duration (hours):  2\n",
      "Enter Training Type:  Endurance  \n",
      "Enter Meditation (minutes):  0\n",
      "Enter Breathing (minutes):  10\n",
      "Enter Journaling (minutes):  30\n"
     ]
    }
   ],
   "source": [
    "fetch_data(files, headers, header_dtype)"
   ]
  },
  {
   "cell_type": "markdown",
   "id": "99365d47-b27a-40d5-a75a-3281edaa7f04",
   "metadata": {
    "tags": []
   },
   "source": [
    "# Data Collection"
   ]
  },
  {
   "cell_type": "markdown",
   "id": "5d45165f-eb32-4cef-92b0-0d69217cfefc",
   "metadata": {
    "tags": []
   },
   "source": [
    "# Updating Data"
   ]
  }
 ],
 "metadata": {
  "kernelspec": {
   "display_name": "Python 3 (ipykernel)",
   "language": "python",
   "name": "python3"
  },
  "language_info": {
   "codemirror_mode": {
    "name": "ipython",
    "version": 3
   },
   "file_extension": ".py",
   "mimetype": "text/x-python",
   "name": "python",
   "nbconvert_exporter": "python",
   "pygments_lexer": "ipython3",
   "version": "3.11.3"
  }
 },
 "nbformat": 4,
 "nbformat_minor": 5
}

{
 "cells": [
  {
   "cell_type": "code",
   "execution_count": 1,
   "id": "a9991240-ee4b-46f2-99cd-31ffdd8ade26",
   "metadata": {
    "tags": []
   },
   "outputs": [],
   "source": [
    "import pandas as pd\n",
    "import matplotlib.pyplot as plt\n",
    "import seaborn as sns\n",
    "import numpy as np\n",
    "import datetime\n",
    "import yfinance as yf"
   ]
  },
  {
   "cell_type": "code",
   "execution_count": 2,
   "id": "ee674897-8822-47c9-b3f0-664baf979794",
   "metadata": {
    "tags": []
   },
   "outputs": [],
   "source": [
    "class DataBase:\n",
    "    def __init__(self, kind):\n",
    "        self.kind = kind\n",
    "        self.data = {}\n",
    "        if kind == 'crypto':\n",
    "            self.add = self._add_crypto\n",
    "        elif kind == 'stock':\n",
    "            self.add = self._add_stock\n",
    "        else:\n",
    "            raise ValueError(f'Found no kind named: {kind}')\n",
    "    \n",
    "    def _add_crypto(self, name, color, symbol, amount, category, yf_add_ons='-USD'):\n",
    "        if name not in self.data:\n",
    "            try:\n",
    "                self.data[name] = {\n",
    "                    'color': color,\n",
    "                    'symbol': symbol,\n",
    "                    'current_price': yf.Ticker(f'{symbol}{yf_add_ons}').history(period='1d')['Open'][0],\n",
    "                    'start_date': datetime.datetime.strptime(yf.Ticker(f'{symbol}{yf_add_ons}').info['startDate'], '%Y-%m-%d'),\n",
    "                    'portfolio_amount': amount, \n",
    "                    'kind': 'crypto',\n",
    "                    'category': category,\n",
    "                    'symbol_add_on': yf_add_ons\n",
    "                }\n",
    "            except Exception as e:\n",
    "                print(f'An {e} has occurred while extracting data for: {name}')\n",
    "        else:\n",
    "            print(f'{name} already in DataBase')\n",
    "        \n",
    "    def _add_stock(self, name, color, symbol, amount):\n",
    "        if name not in self.data:\n",
    "            try:\n",
    "                self.data[name] = {\n",
    "                    'color': color,\n",
    "                    'symbol': symbol,\n",
    "                    'current_price': yf.Ticker(symbol).history(period='1d')['Open'][0],\n",
    "                    'start_date': datetime.datetime.strptime(yf.Ticker(symbol).info['startDate'], '%Y-%m-%d'),\n",
    "                    'portfolio_amount': amount, \n",
    "                    'kind': 'stock'\n",
    "                }\n",
    "            except Exception as e:\n",
    "                print(f'An {e} has occurred while extracting data for: {name}')\n",
    "        else:\n",
    "            print(f'{name} already in DataBase')\n",
    "        \n",
    "    def remove(self, name):\n",
    "        if name in self.data:\n",
    "            del self.data[name]\n",
    "        else:\n",
    "            print(f'{name} not found in DataBase')\n",
    "    \n",
    "    def get_info(self, name):\n",
    "        return self.data.get(name, f'{name} not found in DataBase')\n",
    "    \n",
    "    def update_amount(self, name, amount):\n",
    "        if name in self.data:\n",
    "            self.data[name]['portfolio_amount'] = amount\n",
    "        else:\n",
    "            print(f'{name} not found in DataBase')\n",
    "        \n",
    "    def update_prices(self):\n",
    "        if self.kind == 'crypto':\n",
    "            for name, details in self.data.items():\n",
    "                self.data[name] = yf.Ticker(details['symbol']+details['symbol_add_on']).history(period='1d')['Open'][0]\n",
    "        elif self.kind =='stock':\n",
    "            for name, details in self.data.items():\n",
    "                self.data[name] = yf.Ticker(details['symbol']).history(period='1d')['Open'][0]\n",
    "    \n",
    "    def filter_by_category(self, categories):\n",
    "        filterd = {}\n",
    "        for name, details in self.data.items():\n",
    "            if details['category'] in categories:\n",
    "                filterd[name] = details\n",
    "        return filterd \n",
    "    \n",
    "    def calculate_distribution(self, total_investment, distribution):\n",
    "        for category_name, category_info in distribution.items():\n",
    "            category_total = total_investment * (category_info['precentage'] / 100)\n",
    "            for asset_name, precentage in category_info['assets'].items():\n",
    "                amount_in_currency = category_total * (precentage / 100)\n",
    "                if asset_name in self.data:\n",
    "                    self.data[asset_name]['portfolio_amount'] = amount_in_currency / self.data[asset_name]['current_price']\n",
    "                else:\n",
    "                    print(f\"{asset} is not in the DataBase.\")\n",
    "    \n",
    "    @staticmethod\n",
    "    def create_distribution(*categories):\n",
    "        distribution = {}\n",
    "        for category in categories:\n",
    "            name, precentage, *assets = category\n",
    "            assets_distribution = {asset_name: asset_percentage for asset_name, asset_percentage in assets}\n",
    "            distribution[name] = {'precentage': precentage, 'assets': assets_distribution}\n",
    "        return distribution"
   ]
  },
  {
   "cell_type": "code",
   "execution_count": null,
   "id": "36ce53cc-d818-4447-9a9d-2de6fbcc2e83",
   "metadata": {
    "tags": []
   },
   "outputs": [],
   "source": [
    "bitcoin = yf.Ticker('BTC-USD')"
   ]
  },
  {
   "cell_type": "code",
   "execution_count": null,
   "id": "4a1f9e60-30bd-4ff2-98ae-ae79a2703682",
   "metadata": {},
   "outputs": [],
   "source": []
  },
  {
   "cell_type": "code",
   "execution_count": null,
   "id": "ec7c0e49-0be9-4823-936e-63e555b68ef3",
   "metadata": {
    "tags": []
   },
   "outputs": [],
   "source": [
    "db = DataBase('crypto')\n",
    "db.add('Bitcoin', '#F7931A', 'BTC', 0, 'Foundational Assets')\n",
    "db.add('Ethereum', '#627EEA', 'ETH', 0, 'Foundational Assets')\n",
    "db.add('Chainlink', '#0040DE', 'LINK', 0, 'Interoperability Protocols')"
   ]
  },
  {
   "cell_type": "code",
   "execution_count": null,
   "id": "da0ecafd-a0ad-4ebc-84a9-827da8772536",
   "metadata": {
    "tags": []
   },
   "outputs": [],
   "source": [
    "assets_dict = db.data\n",
    "start_date_string = pd.DataFrame(assets_dict).T['start_date'].max().date().strftime('%Y-%m-%d')\n",
    "start_date = datetime.datetime.strptime(start_date_string, '%Y-%m-%d').date()"
   ]
  },
  {
   "cell_type": "code",
   "execution_count": null,
   "id": "9f206f44-1659-4c73-9fe4-8bba046675ff",
   "metadata": {
    "tags": []
   },
   "outputs": [],
   "source": [
    "assets_dict"
   ]
  },
  {
   "cell_type": "code",
   "execution_count": null,
   "id": "06c655d7-8fbd-491f-afba-98e513fcbafd",
   "metadata": {},
   "outputs": [],
   "source": [
    "# Making the price history DataFrame\n",
    "my_assets = [asset for asset in assets_dict]\n",
    "price_history = pd.DataFrame()\n",
    "\n",
    "for asset in my_assets:\n",
    "    \n",
    "    ticker = assets_dict[asset]['symbol']+assets_dict[asset]['symbol_add_on']\n",
    "    \n",
    "    try:\n",
    "        Open = yf.Ticker(ticker).history(start=start_date_string)['Open']\n",
    "        \n",
    "    except Exception as e:\n",
    "                print(f'An {e} has occurred while extracting data for: {asset}')\n",
    "            \n",
    "    Open.index = pd.DatetimeIndex(Open.index.date)\n",
    "    \n",
    "    price_history[asset] = Open\n",
    "\n",
    "price_history.fillna(method='ffill', inplace=True)\n",
    "price_history.fillna(method='backfill', inplace=True)"
   ]
  },
  {
   "cell_type": "code",
   "execution_count": null,
   "id": "780248f9-49a1-4880-ae8b-02d85d3a35e9",
   "metadata": {},
   "outputs": [],
   "source": [
    "# Different types of returns\n",
    "def arithmetic_returns(price):\n",
    "    return (price/price.shift(1)) - 1\n",
    "\n",
    "def logarithmic_returns(price):\n",
    "    return np.log(price/price.shift(1))\n",
    "\n",
    "# making the return history DataFrame\n",
    "return_history = pd.DataFrame(columns=[f'{asset} return' for asset in price_history.columns])\n",
    "\n",
    "for asset in price_history.columns:\n",
    "    return_history[f'{asset} return'] = logarithmic_returns(price_history[asset]).dropna()\n",
    "return_history.index = pd.DatetimeIndex(return_history.index.date)"
   ]
  }
 ],
 "metadata": {
  "kernelspec": {
   "display_name": "Python 3 (ipykernel)",
   "language": "python",
   "name": "python3"
  },
  "language_info": {
   "codemirror_mode": {
    "name": "ipython",
    "version": 3
   },
   "file_extension": ".py",
   "mimetype": "text/x-python",
   "name": "python",
   "nbconvert_exporter": "python",
   "pygments_lexer": "ipython3",
   "version": "3.11.3"
  }
 },
 "nbformat": 4,
 "nbformat_minor": 5
}

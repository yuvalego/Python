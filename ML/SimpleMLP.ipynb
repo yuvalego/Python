{
 "cells": [
  {
   "cell_type": "code",
   "execution_count": 134,
   "id": "2f50613f-bcf5-45fb-b509-7264e5d029a3",
   "metadata": {
    "tags": []
   },
   "outputs": [],
   "source": [
    "import numpy as np\n",
    "import pandas as pd\n",
    "import matplotlib.pyplot as plt\n",
    "%matplotlib inline"
   ]
  },
  {
   "cell_type": "code",
   "execution_count": 135,
   "id": "40b68862-5b70-4cfd-ade3-dca61c7db80b",
   "metadata": {
    "tags": []
   },
   "outputs": [],
   "source": [
    "# np.random.seed(100)\n",
    "num_samples = 100\n",
    "X = np.linspace(0, 10, num_samples)\n",
    "m = 5\n",
    "b = 2\n",
    "noise = np.random.normal(0, 10, num_samples)\n",
    "y = m * X + b + noise\n",
    "data = pd.DataFrame({'X': X, 'y': y})"
   ]
  },
  {
   "cell_type": "code",
   "execution_count": 136,
   "id": "109ec357-d2d8-4062-b4b4-4611b57e96c3",
   "metadata": {
    "tags": []
   },
   "outputs": [
    {
     "data": {
      "image/png": "[encoded data removed]",
      "text/plain": [
       "<Figure size 600x300 with 1 Axes>"
      ]
     },
     "metadata": {},
     "output_type": "display_data"
    }
   ],
   "source": [
    "fig, ax = plt.subplots(figsize=(6, 3)) \n",
    "ax.scatter(data.X, data.y)\n",
    "plt.show()"
   ]
  },
  {
   "cell_type": "code",
   "execution_count": 137,
   "id": "29ae8a82-da30-467b-b171-15b0d805ced4",
   "metadata": {},
   "outputs": [],
   "source": [
    "import tensorflow as tf\n",
    "# importing the Sequential model with the Dense layers for the most basic nn implementation\n",
    "from tensorflow.keras.models import Sequential\n",
    "from tensorflow.keras.layers import Dense"
   ]
  },
  {
   "cell_type": "code",
   "execution_count": 150,
   "id": "eead8857-a40b-4214-81d0-2c6d4dc19ecb",
   "metadata": {
    "tags": []
   },
   "outputs": [],
   "source": [
    "# Train images: (60000, 28, 28), Train labels: (60000,)\n",
    "# Test images: (10000, 28, 28), Test labels: (10000,)\n",
    "(x_train, y_train), (x_test, y_test) = tf.keras.datasets.mnist.load_data()"
   ]
  },
  {
   "cell_type": "code",
   "execution_count": 138,
   "id": "128b6e55-70eb-4426-a362-7a5381f92c60",
   "metadata": {
    "tags": []
   },
   "outputs": [],
   "source": [
    "model = Sequential(\n",
    "    [\n",
    "        Dense(25, activation='relu', name='L1'),\n",
    "        Dense(10, activation='relu', name='L2'),\n",
    "        Dense(1, activation='linear', name='L3')\n",
    "    ]\n",
    ")"
   ]
  },
  {
   "cell_type": "code",
   "execution_count": 139,
   "id": "d1b41d34-8a42-4a6d-ab4f-483c8191b84d",
   "metadata": {
    "tags": []
   },
   "outputs": [
    {
     "name": "stdout",
     "output_type": "stream",
     "text": [
      "Epoch 1/10\n",
      "4/4 [==============================] - 0s 633us/step - loss: 1520.4109\n",
      "Epoch 2/10\n",
      "4/4 [==============================] - 0s 545us/step - loss: 1516.6317\n",
      "Epoch 3/10\n",
      "4/4 [==============================] - 0s 743us/step - loss: 1513.9207\n",
      "Epoch 4/10\n",
      "4/4 [==============================] - 0s 687us/step - loss: 1511.4302\n",
      "Epoch 5/10\n",
      "4/4 [==============================] - 0s 567us/step - loss: 1509.4286\n",
      "Epoch 6/10\n",
      "4/4 [==============================] - 0s 564us/step - loss: 1507.2941\n",
      "Epoch 7/10\n",
      "4/4 [==============================] - 0s 555us/step - loss: 1505.2443\n",
      "Epoch 8/10\n",
      "4/4 [==============================] - 0s 482us/step - loss: 1503.5040\n",
      "Epoch 9/10\n",
      "4/4 [==============================] - 0s 527us/step - loss: 1501.5876\n",
      "Epoch 10/10\n",
      "4/4 [==============================] - 0s 734us/step - loss: 1499.6725\n"
     ]
    },
    {
     "data": {
      "text/plain": [
       "<keras.callbacks.History at 0x15790b690>"
      ]
     },
     "execution_count": 139,
     "metadata": {},
     "output_type": "execute_result"
    }
   ],
   "source": [
    "model.compile(\n",
    "    \n",
    "    loss=tf.keras.losses.SparseCategoricalCrossentropy(from_logits=True),\n",
    "    optimizer=tf.keras.optimizers.Adam(0.01)\n",
    "             )\n",
    "model.fit(data.X, data.y, epochs=200)"
   ]
  },
  {
   "cell_type": "code",
   "execution_count": 140,
   "id": "f47b3774-d4d9-41b8-83b4-4361fcf59dc3",
   "metadata": {
    "tags": []
   },
   "outputs": [
    {
     "name": "stdout",
     "output_type": "stream",
     "text": [
      "Model: \"sequential_8\"\n",
      "_________________________________________________________________\n",
      " Layer (type)                Output Shape              Param #   \n",
      "=================================================================\n",
      " L1 (Dense)                  (None, 1)                 2         \n",
      "                                                                 \n",
      "=================================================================\n",
      "Total params: 2\n",
      "Trainable params: 2\n",
      "Non-trainable params: 0\n",
      "_________________________________________________________________\n"
     ]
    }
   ],
   "source": [
    "model.summary()"
   ]
  },
  {
   "cell_type": "code",
   "execution_count": 141,
   "id": "8fc57eb8-d943-4bea-9c92-e82788b1c3d1",
   "metadata": {
    "tags": []
   },
   "outputs": [],
   "source": [
    "output_layer = model.get_layer('L1')"
   ]
  },
  {
   "cell_type": "code",
   "execution_count": 142,
   "id": "d6b0edf8-1405-4ea4-81ab-8bf6df16c327",
   "metadata": {
    "tags": []
   },
   "outputs": [],
   "source": [
    "w, b = output_layer.get_weights()"
   ]
  },
  {
   "cell_type": "code",
   "execution_count": 143,
   "id": "b13fa8b7-500b-458c-951a-ce84f7802dc4",
   "metadata": {
    "tags": []
   },
   "outputs": [],
   "source": [
    "w, b = w[0], b[0]"
   ]
  },
  {
   "cell_type": "code",
   "execution_count": 144,
   "id": "d6087598-a982-4997-b220-e8de82394efa",
   "metadata": {
    "tags": []
   },
   "outputs": [],
   "source": [
    "y = m * X + b"
   ]
  },
  {
   "cell_type": "code",
   "execution_count": 145,
   "id": "d1fd69d7-78ba-4f95-a777-e474b0777f95",
   "metadata": {
    "tags": []
   },
   "outputs": [
    {
     "data": {
      "image/png": "[encoded data removed]",
      "text/plain": [
       "<Figure size 600x300 with 1 Axes>"
      ]
     },
     "execution_count": 145,
     "metadata": {},
     "output_type": "execute_result"
    }
   ],
   "source": [
    "ax.plot(X, y)\n",
    "fig"
   ]
  },
  {
   "cell_type": "code",
   "execution_count": 149,
   "id": "7eeb400e-7b4f-455c-b125-8d73a76b9836",
   "metadata": {
    "tags": []
   },
   "outputs": [
    {
     "data": {
      "image/png": "[encoded data removed]",
      "text/plain": [
       "<Figure size 1000x500 with 5 Axes>"
      ]
     },
     "metadata": {},
     "output_type": "display_data"
    },
    {
     "name": "stdout",
     "output_type": "stream",
     "text": [
      "Train images: (60000, 28, 28), Train labels: (60000,)\n",
      "Test images: (10000, 28, 28), Test labels: (10000,)\n"
     ]
    }
   ],
   "source": [
    "# Load the dataset\n",
    "(x_train, y_train), (x_test, y_test) = tf.keras.datasets.mnist.load_data()\n",
    "\n",
    "# Normalize pixel values to range [0,1]\n",
    "x_train, x_test = x_train / 255.0, x_test / 255.0\n",
    "\n",
    "# Display some samples\n",
    "plt.figure(figsize=(10, 5))\n",
    "for i in range(5):\n",
    "    plt.subplot(2, 5, i+1)\n",
    "    plt.imshow(x_train[i], cmap='gray')\n",
    "    plt.axis('off')\n",
    "plt.show()\n",
    "\n",
    "# Print dataset shape\n",
    "print(f\"Train images: {x_train.shape}, Train labels: {y_train.shape}\")\n",
    "print(f\"Test images: {x_test.shape}, Test labels: {y_test.shape}\")"
   ]
  }
 ],
 "metadata": {
  "kernelspec": {
   "display_name": "Python 3 (ipykernel)",
   "language": "python",
   "name": "python3"
  },
  "language_info": {
   "codemirror_mode": {
    "name": "ipython",
    "version": 3
   },
   "file_extension": ".py",
   "mimetype": "text/x-python",
   "name": "python",
   "nbconvert_exporter": "python",
   "pygments_lexer": "ipython3",
   "version": "3.11.3"
  }
 },
 "nbformat": 4,
 "nbformat_minor": 5
}

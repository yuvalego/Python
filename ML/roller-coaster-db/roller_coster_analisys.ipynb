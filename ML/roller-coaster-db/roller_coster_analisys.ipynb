{
 "cells": [
  {
   "cell_type": "code",
   "execution_count": null,
   "id": "7ec0d63c-4bd9-4c4d-abab-cae106394e79",
   "metadata": {},
   "outputs": [],
   "source": [
    "import pandas as pd\n",
    "import numpy as np"
   ]
  },
  {
   "cell_type": "code",
   "execution_count": null,
   "id": "3a347cea-44ef-4e1c-b4e8-72ad8a3258f4",
   "metadata": {},
   "outputs": [],
   "source": [
    "import matplotlib.pyplot as plt\n",
    "import seaborn as sns\n",
    "\n",
    "plt.style.use('ggplot')\n",
    "sns.set_context('notebook')\n",
    "\n",
    "from matplotlib_inline.backend_inline import set_matplotlib_formats\n",
    "set_matplotlib_formats('retina')"
   ]
  },
  {
   "cell_type": "code",
   "execution_count": null,
   "id": "e74bf341-9d3a-4e46-907e-a1abb06f3899",
   "metadata": {},
   "outputs": [],
   "source": [
    "# pd.set_option('max_columns', 200)"
   ]
  },
  {
   "cell_type": "code",
   "execution_count": null,
   "id": "5b3b05be-b2af-47b9-9456-8514e8ec18c4",
   "metadata": {},
   "outputs": [],
   "source": [
    "df = pd.read_csv('roller-coaster-db/coaster_db.csv')"
   ]
  },
  {
   "cell_type": "code",
   "execution_count": null,
   "id": "ca17001c-f69e-49b3-acf2-34ad991b8c34",
   "metadata": {},
   "outputs": [],
   "source": [
    "df.shape"
   ]
  },
  {
   "cell_type": "code",
   "execution_count": null,
   "id": "9116c179-1346-4a72-9ee2-dc5800569511",
   "metadata": {},
   "outputs": [],
   "source": [
    "df.head()"
   ]
  },
  {
   "cell_type": "code",
   "execution_count": null,
   "id": "f8fa2ebf-0a16-4f16-8e86-61b154717687",
   "metadata": {
    "scrolled": true
   },
   "outputs": [],
   "source": [
    "df.dtypes"
   ]
  },
  {
   "cell_type": "code",
   "execution_count": null,
   "id": "1766778f-5e9d-4ed7-8755-84e2d9f9e0ce",
   "metadata": {},
   "outputs": [],
   "source": [
    "df.describe()"
   ]
  },
  {
   "cell_type": "code",
   "execution_count": null,
   "id": "65bf7f9e-7fac-46a8-8a5b-8f060377ab2a",
   "metadata": {},
   "outputs": [],
   "source": [
    "df.columns"
   ]
  },
  {
   "cell_type": "code",
   "execution_count": null,
   "id": "726b58d4-18db-4278-82b0-ecfd27d4ce50",
   "metadata": {},
   "outputs": [],
   "source": [
    "df = df[[\n",
    "    'coaster_name', \n",
    "    # 'Length', 'Speed', \n",
    "    'Location', 'Status', \n",
    "    # 'Opening date', 'Type', \n",
    "    'Manufacturer', \n",
    "    # 'Height restriction', 'Model', 'Height',\n",
    "    # 'Inversions', 'Lift/launch system', 'Cost', 'Trains', 'Park section',\n",
    "    # 'Duration', 'Capacity', 'G-force', 'Designer', 'Max vertical angle',\n",
    "    # 'Drop', 'Soft opening date', 'Fast Lane available', 'Replaced',\n",
    "    # 'Track layout', 'Fastrack available', 'Soft opening date.1',\n",
    "    # 'Closing date', 'Opened', \n",
    "    # 'Replaced by', 'Website', 'Flash Pass Available', 'Must transfer from wheelchair', \n",
    "    # 'Theme', 'Single rider line available', 'Restraint Style',\n",
    "    # 'Flash Pass available', 'Acceleration', 'Restraints', 'Name',\n",
    "    'year_introduced', 'latitude', 'longitude', 'Type_Main',\n",
    "    'opening_date_clean', \n",
    "    # 'speed1', 'speed2', 'speed1_value', 'speed1_unit',\n",
    "    'speed_mph', \n",
    "    # 'height_value', 'height_unit', \n",
    "    'height_ft', 'Inversions_clean', 'Gforce_clean' \n",
    "]].copy()"
   ]
  },
  {
   "cell_type": "code",
   "execution_count": null,
   "id": "571cf10a-7683-4ecd-917d-935281ff61dd",
   "metadata": {},
   "outputs": [],
   "source": [
    "df.head()"
   ]
  },
  {
   "cell_type": "code",
   "execution_count": null,
   "id": "8c1f4464-2fc9-4494-9c9a-2e7ab28abe19",
   "metadata": {},
   "outputs": [],
   "source": [
    "df.shape"
   ]
  },
  {
   "cell_type": "code",
   "execution_count": null,
   "id": "21cdf571-cb5e-4cdd-b96d-4cdedfbf7d7d",
   "metadata": {},
   "outputs": [],
   "source": [
    "df.opening_date_clean = pd.to_datetime(df['opening_date_clean'])"
   ]
  },
  {
   "cell_type": "code",
   "execution_count": null,
   "id": "6b837f5c-ffe6-4488-8cca-4ae75244e00f",
   "metadata": {},
   "outputs": [],
   "source": [
    "df.rename({column: column.title() for column in df.columns}, inplace=True)"
   ]
  },
  {
   "cell_type": "code",
   "execution_count": null,
   "id": "9df48850-d01a-494f-ba94-5dda3f350671",
   "metadata": {},
   "outputs": [],
   "source": [
    "df.isna().sum()"
   ]
  },
  {
   "cell_type": "code",
   "execution_count": null,
   "id": "d4d79451-24f8-4e65-898e-4fecc8d21965",
   "metadata": {},
   "outputs": [],
   "source": [
    "df.loc[df.duplicated()]"
   ]
  },
  {
   "cell_type": "code",
   "execution_count": null,
   "id": "619ac6cc-433d-4394-8f2d-b84e8c602daf",
   "metadata": {},
   "outputs": [],
   "source": [
    "df = df.loc[~df.duplicated(subset=['coaster_name', 'Location', 'opening_date_clean'])].reset_index(drop=True).copy()"
   ]
  },
  {
   "cell_type": "code",
   "execution_count": null,
   "id": "dbaec3c9-9ae0-4ee3-805d-e97ad2a180db",
   "metadata": {},
   "outputs": [],
   "source": [
    "year_introduced_series = df['year_introduced'].value_counts()"
   ]
  },
  {
   "cell_type": "code",
   "execution_count": null,
   "id": "9cc1bc46-7422-4a61-ba42-6abd1dea8057",
   "metadata": {},
   "outputs": [],
   "source": [
    "fig = plt.figure(figsize=(7, 4))\n",
    "sns.lineplot(data=year_introduced_series, linewidth=2.3, alpha=0.7)\n",
    "plt.title('Roller Costers Introduced Each Year')\n",
    "plt.xlabel('Year', fontsize=11), plt.ylabel('Number of Costers', fontsize=11)\n",
    "plt.xticks(fontsize=10), plt.yticks(fontsize=10)\n",
    "plt.tight_layout()\n",
    "plt.show()"
   ]
  },
  {
   "cell_type": "code",
   "execution_count": null,
   "id": "c6e2d32c-4422-4c21-bafb-c4155624d12a",
   "metadata": {},
   "outputs": [],
   "source": [
    "fig = plt.figure(figsize=(7, 4))\n",
    "sns.histplot(data=df['speed_mph'])\n",
    "plt.title('Coaster Speed Distrebution')\n",
    "plt.xlabel('Speed (mph)', fontsize=10), plt.ylabel('Freaquency', fontsize=10)\n",
    "plt.xticks(fontsize=10), plt.yticks(fontsize=10)\n",
    "plt.tight_layout()\n",
    "plt.show()"
   ]
  },
  {
   "cell_type": "code",
   "execution_count": null,
   "id": "70e550c1-a605-41ca-b82c-7f7d232bfbb7",
   "metadata": {},
   "outputs": [],
   "source": [
    "fig = plt.figure(figsize=(7, 4))\n",
    "sns.kdeplot(data=df['speed_mph'])\n",
    "plt.title('Coaster Speed Distrebution')\n",
    "plt.xlabel('Speed (mph)', fontsize=10), plt.ylabel('Freaquency', fontsize=10)\n",
    "plt.xticks(fontsize=10), plt.yticks(fontsize=10)\n",
    "plt.tight_layout()\n",
    "plt.show()"
   ]
  },
  {
   "cell_type": "code",
   "execution_count": null,
   "id": "708507f2-0b05-4f8f-8c7d-0cdb1db4c1a2",
   "metadata": {},
   "outputs": [],
   "source": [
    "fig = plt.figure(figsize=(7, 4))\n",
    "# PLOT HERE\n",
    "sns.scatterplot(data=df, x='speed_mph', y='height_ft', hue='Gforce_clean')\n",
    "# PLOT HERE\n",
    "plt.title('Coster Speed vs. Coster Height')\n",
    "plt.xlabel('Speed (mph)', fontsize=10), plt.ylabel('Height (ft)', fontsize=10)\n",
    "plt.xticks(fontsize=8), plt.yticks(fontsize=8)\n",
    "plt.tight_layout()\n",
    "plt.show()"
   ]
  },
  {
   "cell_type": "code",
   "execution_count": null,
   "id": "5472b239-3161-456a-989f-b78fa6f1aa69",
   "metadata": {},
   "outputs": [],
   "source": [
    "df.columns"
   ]
  },
  {
   "cell_type": "code",
   "execution_count": null,
   "id": "4a9082ba-6871-4918-88c8-fff45c5522fe",
   "metadata": {
    "scrolled": true
   },
   "outputs": [],
   "source": [
    "fig = plt.figure(figsize=(15, 9))\n",
    "sns.pairplot(data=df, vars=['year_introduced', 'Inversions_clean', 'speed_mph', 'height_ft', 'Gforce_clean'], hue='Type_Main')\n",
    "plt.tight_layout()\n",
    "plt.show()"
   ]
  },
  {
   "cell_type": "code",
   "execution_count": null,
   "id": "be48fcb9-d507-4211-a4f9-d9dec6625841",
   "metadata": {},
   "outputs": [],
   "source": [
    "df_corr = df[['year_introduced', 'Inversions_clean', 'speed_mph', 'height_ft', 'Gforce_clean']].dropna().corr()\n",
    "df_corr"
   ]
  },
  {
   "cell_type": "code",
   "execution_count": null,
   "id": "e5ea11ab-0bc3-4fd6-a826-18c84b0d1ce3",
   "metadata": {
    "scrolled": true
   },
   "outputs": [],
   "source": [
    "fig = plt.figure(figsize=(8, 7))\n",
    "sns.heatmap(df_corr, annot=True)\n",
    "plt.tight_layout()\n",
    "plt.show()"
   ]
  },
  {
   "cell_type": "code",
   "execution_count": null,
   "id": "b4f29e79-b957-491e-b62a-8c1f3429a4d2",
   "metadata": {},
   "outputs": [],
   "source": [
    "df.Location.value_counts()"
   ]
  },
  {
   "cell_type": "code",
   "execution_count": null,
   "id": "b5cba5a6-2f2f-44ba-84f3-3e5719ddd77f",
   "metadata": {},
   "outputs": [],
   "source": [
    "fastest_costers = df.query('Location != \"Other\"') \\\n",
    "                    .reset_index() \\\n",
    "                    .groupby('Location')['speed_mph'] \\\n",
    "                    .agg(['mean', 'count']) \\\n",
    "                    .query('count >= 10') \\\n",
    "                    .copy()\n",
    "\n",
    "fastest_costers.sort_values('mean', ascending=False, inplace=True)"
   ]
  },
  {
   "cell_type": "code",
   "execution_count": null,
   "id": "b01422b3-9141-4887-9246-63ca1a2a7569",
   "metadata": {},
   "outputs": [],
   "source": [
    "fig = plt.figure(figsize=(10, 5))\n",
    "# PLOT HERE\n",
    "sns.barplot(data=fastest_costers, x='mean', y='Location', hue='count', palette='Set2', linewidth=1.2, saturation=0.7, alpha=0.8)\n",
    "# PLOT HERE\n",
    "plt.title('Title')\n",
    "plt.xlabel('X Label', fontsize=10), plt.ylabel('Y Label', fontsize=10)\n",
    "plt.xticks(fontsize=10), plt.yticks(fontsize=10)\n",
    "plt.legend(fontsize=10)\n",
    "plt.tight_layout()\n",
    "plt.show()"
   ]
  }
 ],
 "metadata": {
  "kernelspec": {
   "display_name": "Python (ai)",
   "language": "python",
   "name": "ai"
  },
  "language_info": {
   "codemirror_mode": {
    "name": "ipython",
    "version": 3
   },
   "file_extension": ".py",
   "mimetype": "text/x-python",
   "name": "python",
   "nbconvert_exporter": "python",
   "pygments_lexer": "ipython3",
   "version": "3.10.17"
  }
 },
 "nbformat": 4,
 "nbformat_minor": 5
}

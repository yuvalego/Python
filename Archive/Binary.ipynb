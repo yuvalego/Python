{
 "cells": [
  {
   "cell_type": "markdown",
   "id": "304a4555-7b0d-47e7-8991-f2ad871da17b",
   "metadata": {
    "jp-MarkdownHeadingCollapsed": true,
    "tags": []
   },
   "source": [
    "## Base-2"
   ]
  },
  {
   "cell_type": "code",
   "execution_count": 379,
   "id": "da21659d-650d-4738-852b-8558dcf338cc",
   "metadata": {
    "tags": []
   },
   "outputs": [],
   "source": [
    "def turn_binary(num, memory):\n",
    "    inverse = ~num + 0b01\n",
    "    binary_representation = ''\n",
    "    for i in range(memory-1, -1, -1):      \n",
    "        temp = inverse\n",
    "        inverse %= pow(2, i)\n",
    "        binary_representation += '0' if temp == inverse else '1'   \n",
    "    return binary_representation"
   ]
  },
  {
   "cell_type": "code",
   "execution_count": 381,
   "id": "1e944e43-41a1-46ef-ac36-b6db1024ff94",
   "metadata": {
    "tags": []
   },
   "outputs": [
    {
     "name": "stdout",
     "output_type": "stream",
     "text": [
      "input: 101010\n",
      "output: 11010110\n"
     ]
    }
   ],
   "source": [
    "num = 42\n",
    "memory = 8\n",
    "binary_string = bin(num)[2:]\n",
    "print(f'input: {binary_string}')\n",
    "print(f'output: {turn_binary(num, memory)}')"
   ]
  },
  {
   "cell_type": "code",
   "execution_count": 250,
   "id": "e3c7b011-fa0c-49ed-a267-b6be9e0a9f4e",
   "metadata": {
    "tags": []
   },
   "outputs": [],
   "source": [
    "def from_binary(binary_string):\n",
    "    num = 0\n",
    "    reverse = binary_string[::-1]\n",
    "    for i in range(len(binary_string)):\n",
    "        power = i\n",
    "        num += pow(2, power) * int(reverse[i])\n",
    "    return num"
   ]
  },
  {
   "cell_type": "code",
   "execution_count": 257,
   "id": "050957a4-95c6-4aaa-beea-7296c165ee59",
   "metadata": {
    "tags": []
   },
   "outputs": [
    {
     "name": "stdout",
     "output_type": "stream",
     "text": [
      "input: 101010\n",
      "output: 42\n"
     ]
    }
   ],
   "source": [
    "print(f'input: {binary_string}')\n",
    "print(f'output: {from_binary(binary_string)}')"
   ]
  },
  {
   "cell_type": "markdown",
   "id": "f06f5f11-6752-4a09-bd95-fa80e9967c63",
   "metadata": {
    "jp-MarkdownHeadingCollapsed": true,
    "tags": []
   },
   "source": [
    "## Base-16"
   ]
  },
  {
   "cell_type": "code",
   "execution_count": 334,
   "id": "fa7811e6-4164-4b8d-8bc2-71f8f9eeab58",
   "metadata": {
    "tags": []
   },
   "outputs": [],
   "source": [
    "def turn_hexadecimal(num, memory, hex_chars):\n",
    "    hexadesimal_representation = ''\n",
    "    for i in range(memory-1, -1, -1):\n",
    "        hex_place_power = pow(16, i)\n",
    "        temp = num\n",
    "        num %= hex_place_power\n",
    "        hexadesimal_representation += hex_chars[temp // hex_place_power]\n",
    "    return hexadesimal_representation    "
   ]
  },
  {
   "cell_type": "code",
   "execution_count": 335,
   "id": "61b5510d-0fe8-44b0-971c-170e6fdcc38f",
   "metadata": {
    "tags": []
   },
   "outputs": [
    {
     "name": "stdout",
     "output_type": "stream",
     "text": [
      "input: 47\n",
      "output: 2f\n"
     ]
    }
   ],
   "source": [
    "hex_chars = '0123456789abcdef'\n",
    "num = 47\n",
    "memory = 2\n",
    "hexadecimal_string = turn_hexadecimal(num, memory, hex_chars)\n",
    "\n",
    "print(f'input: {num}')\n",
    "print(f'output: {hexadecimal_string}')"
   ]
  },
  {
   "cell_type": "code",
   "execution_count": 336,
   "id": "86b45450-a580-42e6-836b-196f561c9e2a",
   "metadata": {
    "tags": []
   },
   "outputs": [],
   "source": [
    "def from_hexadecimal(hexadecimal_string, hex_chars):\n",
    "    num = 0\n",
    "    reverse = hexadecimal_string[::-1]\n",
    "    for char in reverse:\n",
    "        power = reverse.index(char)\n",
    "        num += pow(16, power) * hex_chars.index(char)\n",
    "    return num"
   ]
  },
  {
   "cell_type": "code",
   "execution_count": 337,
   "id": "c8707e73-b67c-4e05-9534-a649cd232892",
   "metadata": {
    "tags": []
   },
   "outputs": [
    {
     "name": "stdout",
     "output_type": "stream",
     "text": [
      "input: 2f\n",
      "output: 47\n"
     ]
    }
   ],
   "source": [
    "print(f'input: {hexadecimal_string}')\n",
    "print(f'output: {from_hexadecimal(hexadecimal_string, hex_chars)}')"
   ]
  },
  {
   "cell_type": "markdown",
   "id": "d3a6874f-778e-4e59-9eae-214a22c8bd1c",
   "metadata": {
    "jp-MarkdownHeadingCollapsed": true,
    "tags": []
   },
   "source": [
    "## File Encryption"
   ]
  },
  {
   "cell_type": "code",
   "execution_count": 299,
   "id": "20c443cf-4c33-48eb-bae4-265225b0c68f",
   "metadata": {
    "tags": []
   },
   "outputs": [],
   "source": [
    "def encrypt_file(file_name, key):\n",
    "    with open(file_name, 'r+') as message_file:   \n",
    "        array = np.array([ord(letter) for letter in message_file.read()])\n",
    "        array ^= key\n",
    "        to_string = np.vectorize(chr)\n",
    "        encrypted_string = ''.join(to_string(array))\n",
    "        message_file.seek(0)\n",
    "        message_file.write(encrypted_string)     \n",
    "    return file_name"
   ]
  },
  {
   "cell_type": "code",
   "execution_count": 304,
   "id": "5616d702-5b69-4012-add8-5ef38d431f42",
   "metadata": {
    "tags": []
   },
   "outputs": [],
   "source": [
    "import numpy as np"
   ]
  },
  {
   "cell_type": "code",
   "execution_count": 331,
   "id": "52a830fb-fb28-4147-90ce-5afd173d4eb0",
   "metadata": {
    "tags": []
   },
   "outputs": [],
   "source": [
    "with open('secret_message.txt', 'w+') as file:\n",
    "    file.write('This is a secret message. Keep it safe!')\n",
    "    file.seek(0)\n",
    "    content = file.read()"
   ]
  },
  {
   "cell_type": "code",
   "execution_count": 332,
   "id": "a8480c14-cd64-4a60-bc54-6960d001eab9",
   "metadata": {
    "tags": []
   },
   "outputs": [],
   "source": [
    "key = np.random.randint(0, 10, len(content))"
   ]
  },
  {
   "cell_type": "code",
   "execution_count": 333,
   "id": "da898d7c-8ed8-4912-b26e-d3e9cbbf7cd3",
   "metadata": {
    "tags": []
   },
   "outputs": [
    {
     "name": "stdout",
     "output_type": "stream",
     "text": [
      "Encrypted: ]`jq\"az\"h!ufavew)kfrvgna* Ladp\"or'wbfd!\n",
      "Decoded: This is a secret message. Keep it safe!\n"
     ]
    }
   ],
   "source": [
    "with open(encrypt_file('secret_message.txt', key), 'r') as file:\n",
    "    print(f'Encrypted: {file.read()}')  \n",
    "\n",
    "with open(encrypt_file('secret_message.txt', key), 'r') as file:\n",
    "    print(f'Decoded: {file.read()}')"
   ]
  }
 ],
 "metadata": {
  "kernelspec": {
   "display_name": "Python 3 (ipykernel)",
   "language": "python",
   "name": "python3"
  },
  "language_info": {
   "codemirror_mode": {
    "name": "ipython",
    "version": 3
   },
   "file_extension": ".py",
   "mimetype": "text/x-python",
   "name": "python",
   "nbconvert_exporter": "python",
   "pygments_lexer": "ipython3",
   "version": "3.11.3"
  }
 },
 "nbformat": 4,
 "nbformat_minor": 5
}
